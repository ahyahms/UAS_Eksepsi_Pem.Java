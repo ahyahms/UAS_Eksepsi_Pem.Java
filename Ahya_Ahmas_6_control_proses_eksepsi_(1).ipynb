{
  "nbformat": 4,
  "nbformat_minor": 0,
  "metadata": {
    "colab": {
      "name": "Ahya Ahmas_6_control_proses_eksepsi (1).ipynb",
      "provenance": [],
      "collapsed_sections": []
    },
    "kernelspec": {
      "name": "java",
      "display_name": "Java"
    },
    "language_info": {
      "name": "java"
    }
  },
  "cells": [
    {
      "cell_type": "code",
      "metadata": {
        "id": "iikHUtEExLIP"
      },
      "source": [
        ""
      ],
      "execution_count": null,
      "outputs": []
    },
    {
      "cell_type": "markdown",
      "metadata": {
        "id": "bUB6YkbKzq6e"
      },
      "source": [
        "\n",
        "\n",
        "---\n",
        "\n"
      ]
    },
    {
      "cell_type": "markdown",
      "metadata": {
        "id": "7QbClP-5yKVi"
      },
      "source": [
        "#Petunjuk Penting !!\n",
        "\n",
        "## Lakukan Inisialisasi Java Kompailer untuk Google Colab\n",
        "Notebook ini menggunakan Java di Google Colaboratory sebagai kompailer. Untuk itu lakukan dua langkah dibawah ini sebelum anda bekerja dengan notebook ini\n",
        "\n",
        "1. Jalankan perintah pada cell diabawah ini (klik tombol run atau tekan tombol `Shift`+`Enter` secara bersamaan)"
      ]
    },
    {
      "cell_type": "code",
      "metadata": {
        "id": "lUr92Wb1yzXm",
        "colab": {
          "base_uri": "https://localhost:8080/"
        },
        "outputId": "f14d9ee7-453e-4ca9-ad85-4f275d234e9f"
      },
      "source": [
        "!apt update -q\n",
        "!apt-get install -q openjdk-11-jdk-headless\n",
        "!curl -L https://github.com/SpencerPark/IJava/releases/download/v1.3.0/ijava-1.3.0.zip -o ijava-kernel.zip\n",
        "!unzip -q ijava-kernel.zip -d ijava-kernel && cd ijava-kernel && python3 install.py --sys-prefix\n",
        "!jupyter kernelspec list"
      ],
      "execution_count": null,
      "outputs": [
        {
          "output_type": "stream",
          "text": [
            "Ign:1 https://developer.download.nvidia.com/compute/cuda/repos/ubuntu1804/x86_64  InRelease\n",
            "Get:2 https://cloud.r-project.org/bin/linux/ubuntu bionic-cran40/ InRelease [3,626 B]\n",
            "Ign:3 https://developer.download.nvidia.com/compute/machine-learning/repos/ubuntu1804/x86_64  InRelease\n",
            "Get:4 https://developer.download.nvidia.com/compute/cuda/repos/ubuntu1804/x86_64  Release [697 B]\n",
            "Hit:5 https://developer.download.nvidia.com/compute/machine-learning/repos/ubuntu1804/x86_64  Release\n",
            "Get:6 https://developer.download.nvidia.com/compute/cuda/repos/ubuntu1804/x86_64  Release.gpg [836 B]\n",
            "Get:7 http://security.ubuntu.com/ubuntu bionic-security InRelease [88.7 kB]\n",
            "Get:8 http://ppa.launchpad.net/c2d4u.team/c2d4u4.0+/ubuntu bionic InRelease [15.9 kB]\n",
            "Hit:9 http://archive.ubuntu.com/ubuntu bionic InRelease\n",
            "Get:10 http://archive.ubuntu.com/ubuntu bionic-updates InRelease [88.7 kB]\n",
            "Hit:12 http://ppa.launchpad.net/cran/libgit2/ubuntu bionic InRelease\n",
            "Ign:13 https://developer.download.nvidia.com/compute/cuda/repos/ubuntu1804/x86_64  Packages\n",
            "Get:13 https://developer.download.nvidia.com/compute/cuda/repos/ubuntu1804/x86_64  Packages [679 kB]\n",
            "Hit:14 http://ppa.launchpad.net/deadsnakes/ppa/ubuntu bionic InRelease\n",
            "Get:15 http://archive.ubuntu.com/ubuntu bionic-backports InRelease [74.6 kB]\n",
            "Get:16 http://security.ubuntu.com/ubuntu bionic-security/multiverse amd64 Packages [31.5 kB]\n",
            "Get:17 http://security.ubuntu.com/ubuntu bionic-security/universe amd64 Packages [1,420 kB]\n",
            "Get:18 http://ppa.launchpad.net/graphics-drivers/ppa/ubuntu bionic InRelease [21.3 kB]\n",
            "Get:19 http://security.ubuntu.com/ubuntu bionic-security/main amd64 Packages [2,257 kB]\n",
            "Get:20 http://security.ubuntu.com/ubuntu bionic-security/restricted amd64 Packages [500 kB]\n",
            "Get:21 http://ppa.launchpad.net/c2d4u.team/c2d4u4.0+/ubuntu bionic/main Sources [1,785 kB]\n",
            "Get:22 http://archive.ubuntu.com/ubuntu bionic-updates/multiverse amd64 Packages [38.7 kB]\n",
            "Get:23 http://archive.ubuntu.com/ubuntu bionic-updates/main amd64 Packages [2,693 kB]\n",
            "Get:24 http://ppa.launchpad.net/c2d4u.team/c2d4u4.0+/ubuntu bionic/main amd64 Packages [913 kB]\n",
            "Get:25 http://archive.ubuntu.com/ubuntu bionic-updates/universe amd64 Packages [2,190 kB]\n",
            "Get:26 http://archive.ubuntu.com/ubuntu bionic-updates/restricted amd64 Packages [533 kB]\n",
            "Get:27 http://ppa.launchpad.net/graphics-drivers/ppa/ubuntu bionic/main amd64 Packages [44.1 kB]\n",
            "Fetched 13.4 MB in 4s (3,101 kB/s)\n",
            "Reading package lists...\n",
            "Building dependency tree...\n",
            "Reading state information...\n",
            "80 packages can be upgraded. Run 'apt list --upgradable' to see them.\n",
            "Reading package lists...\n",
            "Building dependency tree...\n",
            "Reading state information...\n",
            "openjdk-11-jdk-headless is already the newest version (11.0.11+9-0ubuntu2~18.04).\n",
            "0 upgraded, 0 newly installed, 0 to remove and 80 not upgraded.\n",
            "  % Total    % Received % Xferd  Average Speed   Time    Time     Time  Current\n",
            "                                 Dload  Upload   Total   Spent    Left  Speed\n",
            "100   623  100   623    0     0   1854      0 --:--:-- --:--:-- --:--:--  1848\n",
            "100 3287k  100 3287k    0     0  3636k      0 --:--:-- --:--:-- --:--:-- 3636k\n",
            "install.py:169: DeprecationWarning: replace is ignored. Installing a kernelspec always replaces an existing installation\n",
            "  replace=args.replace\n",
            "Installed java kernel into \"/usr/share/jupyter/kernels/java\"\n",
            "Available kernels:\n",
            "  ir         /usr/local/share/jupyter/kernels/ir\n",
            "  python2    /usr/local/share/jupyter/kernels/python2\n",
            "  python3    /usr/local/share/jupyter/kernels/python3\n",
            "  java       /usr/share/jupyter/kernels/java\n"
          ],
          "name": "stdout"
        }
      ]
    },
    {
      "cell_type": "markdown",
      "metadata": {
        "id": "05gvKabVzOQD"
      },
      "source": [
        "2. Kemudian refresh halaman notebook (page) (tekan tombol `F5`) atau that. atau tekan tombol refresh/reload. "
      ]
    },
    {
      "cell_type": "markdown",
      "metadata": {
        "id": "fizVCMLKzf8A"
      },
      "source": [
        "---\n"
      ]
    },
    {
      "cell_type": "markdown",
      "metadata": {
        "id": "VD3Bt8LiFs-E"
      },
      "source": [
        "# 8. Pengenalan Eksepsi\n",
        "\n",
        "## 8.1 Tujuan\n",
        "Dalam bagian ini, kita akan mempelajari teknik yang dipakai dalam Java dalam menangani kondisi\n",
        "yang tidak biasa dalam menjalankan operasi normal dalam program. Teknik ini dinamakan ***exception handling***.\n",
        "Pada akhir pembahasan, diharapkan pembaca dapat :\n",
        "1. Mendefinisikan ***exception***\n",
        "2. Menangani exception menggunakan blok ***try-catch-finally***\n",
        "\n",
        "## 8.2 Apa itu Exception?\n",
        "**Exception** adalah sebuah peristiwa yang menjalankan alur proses normal pada program. Peristiwa\n",
        "ini biasanya berupa kesalahan(*error*) dari beberapa bentuk. Ini disebabkan program kita berakhir\n",
        "tidak normal.\n",
        "\n",
        "## 8.3 Penanganan Eksepsi Pada Pemrograman Java\n",
        "Agar kesalahan karena eksepsi dapat di kendalikan, eksepsi perlu \"ditangkap\" (*catch*). untuk menangkap eksepsi java menyediakan pernyataan try. pernyataan ini memiliki dua buah bentuk.\n",
        "\n",
        "Cara penggunaan penanganan eksepsi.\n",
        "### 8.3.1. menangkap eksepsi bentuk Pertama //try-catch :\n",
        "\n",
        "**Program 8.3.1.** menangkap eksepsi bentuk Pertama\n",
        "```javascript\n",
        "try {\n",
        " // Blok yang akan di tangkap jika terjadi eksepsi\n",
        " }catch (<exceptionType1> <varName1>){\n",
        " // Blok yang akan di jalankan kalau terjadi eksepsi\n",
        " }\n",
        "```\n",
        "contoh eksepsi bentuk pertama\n",
        "```javascript\n",
        "        try {\n",
        "            int hitung = 8 / 0;\n",
        "            System.out.println(\"hasil = \" + hitung);\n",
        "        } catch (Throwable t) {\n",
        "            System.err.print(\"error !! terjadi pembagian nol\");\n",
        "        }\n",
        "        System.out.println(\"sukses melewati eksepsi\");\n",
        "```\n"
      ]
    },
    {
      "cell_type": "code",
      "metadata": {
        "id": "MRwZSTDDsy00",
        "colab": {
          "base_uri": "https://localhost:8080/"
        },
        "outputId": "d9857aa3-ff23-4a91-b7c0-b8d67e70fc63"
      },
      "source": [
        "   //Jalankan contoh eksepsi diatas dan amati hasilnya!\n",
        "   \n",
        "    try {\n",
        "          int hitung = 20 / 10;\n",
        "            System.out.println(\"hasil = \" + hitung);\n",
        "        } catch (Throwable t) {\n",
        "            System.err.print(\"error !! terjadi pembagian nol\");\n",
        "        }\n",
        "            System.out.println(\"sukses melewati eksepsi\");\n"
      ],
      "execution_count": 44,
      "outputs": [
        {
          "output_type": "stream",
          "text": [
            "hasil = 2\n",
            "sukses melewati eksepsi\n"
          ],
          "name": "stdout"
        }
      ]
    },
    {
      "cell_type": "markdown",
      "metadata": {
        "id": "th5UNCNas0pg"
      },
      "source": [
        "**penjelasan :**\n",
        "1. ketika program di jalankan statement pada blok try akan di jalankan lebih dulu.\n",
        "\n",
        "2. statement 8 / 0 akan terjadi error (terjadi eksepsi)\n",
        "3. jika pada blok try terjadi error (terjadi eksepsi), maka blok catch akan di jalankan\n",
        "4. dan jika saja blok try nilainya true atau tidak terjadi error maka  blok catch tidak akan di jalankan.\n",
        "5. karena adannya penangkapan eksepsi maka statement\n",
        "\n",
        "```\n",
        "// System.out.println(\"sukses melewati eksepsi\"); akan tetap jalan.\n",
        "```\n"
      ]
    },
    {
      "cell_type": "markdown",
      "metadata": {
        "id": "38DQacocucgY"
      },
      "source": [
        "### 8.3.2. selanjutnnya menangkap eksepsi bentuk kedua //try-finally :\n",
        "\n",
        "\n",
        "```javascript\n",
        "try {\n",
        " // Blok yang akan di tangkap jika terjadi eksepsi\n",
        " }finally{\n",
        " // Blok yang akan di jalankan kalau terjadi eksepsi\n",
        " }\n",
        "```\n",
        "contoh penangkapan eksepsi bentuk kedua :\n",
        "\n",
        "**Program 8.3.2.** menangkap eksepsi bentuk kedua\n",
        "```javascript\n",
        "     try {\n",
        "            int hitung = 8 / 0;\n",
        "            System.out.println(\"hasil = \" + hitung);\n",
        "        } finally {\n",
        "            System.err.print(\"menjalankan blok finally\");\n",
        "        }\n",
        "        System.out.println(\"sukses melewati eksepsi\");\n",
        "```"
      ]
    },
    {
      "cell_type": "code",
      "metadata": {
        "id": "-i4Fe7GPu6Z5",
        "colab": {
          "base_uri": "https://localhost:8080/"
        },
        "outputId": "c935404d-e94b-4bb5-c638-67a4c19bef81"
      },
      "source": [
        "//Implentasi Program 8.3.2 menangkap eksepsi bentuk Pertama\n",
        "    try {\n",
        "          int hitung = 32 / 4;\n",
        "            System.out.println(\"hasil = \" + hitung);\n",
        "        } finally {\n",
        "            System.err.print(\"menjalankan blok finally, \");\n",
        "        }\n",
        "            System.out.println(\"sukses melewati eksepsi\");"
      ],
      "execution_count": 39,
      "outputs": [
        {
          "output_type": "stream",
          "text": [
            "hasil = 8\n"
          ],
          "name": "stdout"
        },
        {
          "output_type": "stream",
          "text": [
            "menjalankan blok finally, "
          ],
          "name": "stderr"
        },
        {
          "output_type": "stream",
          "text": [
            "sukses melewati eksepsi\n"
          ],
          "name": "stdout"
        }
      ]
    },
    {
      "cell_type": "markdown",
      "metadata": {
        "id": "1ALXX5PHvT0r"
      },
      "source": [
        "**penjelasan :**\n",
        "1. ketika program di jalankan statement pada blok try akan di jalankan lebih dulu.\n",
        "2. statement 8 / 0 akan terjadi error (terjadi eksepsi)\n",
        "3. dan pada blok finally akan di jalankan, tidak tergantung apakah bagian blok try mengalami eksepsi atau tidak.\n",
        "4. karena adannya penangkapan eksepsi maka statement\n",
        "\n",
        "\n",
        "```\n",
        "\n",
        "// System.out.println(\"sukses melewati eksepsi\"); akan tetap jalan.\n",
        "\n",
        "```\n"
      ]
    },
    {
      "cell_type": "markdown",
      "metadata": {
        "id": "Dqq6MEXPvdus"
      },
      "source": [
        "### 8.3.3. Penggabungan eksepsi bentuk kedua dan pertama  :\n",
        "\n",
        "Exception dilemparkan selama eksekusi dari blok try dapat ditangkap dan ditangani dalam blok\n",
        "catch. Kode dalam blok finally selalu di-eksekusi.\n",
        "\n",
        "\n",
        "```javascript\n",
        "try {\n",
        "  // Blok yang akan di tangkap jika terjadi eksepsi\n",
        " }catch (<exceptionType1> <varName1>){\n",
        "  // Blok yang akan di jalankan kalau terjadi eksepsi\n",
        " }finally {\n",
        "  //System.err.print(\"menjalankan blok finally\");\n",
        " }\n",
        "```\n",
        "\n",
        "\n",
        "\n",
        "Berikut ini adalah aspek kunci tentang sintak dari konstruksi try-catch-finally:\n",
        "1. Notasi blok bersifat perintah\n",
        "2. Setiap blok try, terdapat satu atau lebih blok catch, tetapi hanya satu blok finally.\n",
        "3. Blok catch dan blok finally harus selalu muncul dalam konjungsi dengan blok try, dan diatas\n",
        "urutan\n",
        "4. Blok try harus diikuti oleh paling sedikit satu blok catch ATAU satu blok finally, atau\n",
        "keduanya.\n",
        "5. Setiap blok catch mendefinisikan sebuah penanganan exception. Header dari blok catch\n",
        "harus membawa satu argumen, dimana exception pada blok tersebut akan ditangani.\n",
        "Exception harus menjadi class pelempar atau satu dari subclassesnya.\n",
        "\n",
        "contoh penggunaan penggabungan eksepsi\n",
        "\n",
        "**Program 8.3.3.** Penggabungan menangkap eksepsi bentuk pertama dan kedua\n",
        "\n",
        "```javascript\n",
        "    try {\n",
        "            int hitung = 8 / 0;\n",
        "            System.out.println(\"hasil = \" + hitung);\n",
        "        } catch (Throwable t) {\n",
        "            System.err.print(\"error !! terjadi pembagian nol\");\n",
        "        } finally {\n",
        "            System.err.print(\"menjalankan blok finally\");\n",
        "        }\n",
        "        System.out.println(\"sukses melewati eksepsi\");\n",
        "    }\n",
        "```\n",
        "\n"
      ]
    },
    {
      "cell_type": "code",
      "metadata": {
        "id": "CEx-jYTfvyuW",
        "colab": {
          "base_uri": "https://localhost:8080/"
        },
        "outputId": "b9e3cbf2-22ce-4b03-af08-437941428dbe"
      },
      "source": [
        "//implemntasi Program 8.3.3. Penggabungan menangkap eksepsi\n",
        "\n",
        "    try {\n",
        "          int hitung = 72 / 8;\n",
        "            System.out.println(\"hasil = \" + hitung);\n",
        "        } catch (Throwable t) {\n",
        "            System.err.print(\"error !! terjadi pembagian nol\");\n",
        "        } finally {\n",
        "            System.err.print(\"menjalankan blok finally, \");\n",
        "        }\n",
        "            System.out.println(\"sukses melewati eksepsi\");"
      ],
      "execution_count": 46,
      "outputs": [
        {
          "output_type": "stream",
          "text": [
            "hasil = 9\n"
          ],
          "name": "stdout"
        },
        {
          "output_type": "stream",
          "text": [
            "menjalankan blok finally, "
          ],
          "name": "stderr"
        },
        {
          "output_type": "stream",
          "text": [
            "sukses melewati eksepsi\n"
          ],
          "name": "stdout"
        }
      ]
    },
    {
      "cell_type": "markdown",
      "metadata": {
        "id": "1wIZEeV7w6RD"
      },
      "source": [
        "**penjelasan :**\n",
        "1. ketika program di jalankan statement pada blok try akan di jalankan lebih dulu.\n",
        "2. statement 8 / 0 akan terjadi error (terjadi eksepsi)\n",
        "3. jika pada blok try terjadi error (terjadi eksepsi), maka blok catch akan di jalankan.\n",
        "4. dan pada blok finally akan tetap jalankan, karena tidak tergantung apakah 5. bagian blok try mengalami eksepsi atau tidak.\n",
        "6. karena adannya penangkapan eksepsi maka statement\n",
        "\n",
        "\n",
        "\n",
        "```\n",
        "// System.out.println(\"sukses melewati eksepsi\"); akan tetap jalan.\n",
        "```\n",
        "\n",
        "dengan penangkapan eksepsi dengan try, kesalahan yang terjadi tidak mengakibatkan eksekusi program dihentikan.\n",
        "\n",
        "demikian penjelasan tentang pengenalan penanganan eksepsi pada pemrograman java"
      ]
    },
    {
      "cell_type": "markdown",
      "metadata": {
        "id": "jOubBl-jM2Yl"
      },
      "source": [
        "## 8.x Video Materi\n",
        "\n",
        "\n",
        "<a href=\"http://www.youtube.com/watch?feature=player_embedded&v=T3ff57rxTa8\n",
        "\" target=\"_blank\"><img src=\"http://img.youtube.com/vi/T3ff57rxTa8/0.jpg\" \n",
        "alt=\"Exeception Handling\" width=\"480\" height=\"360\" border=\"10\" /></a>\n",
        "\n",
        "https://www.youtube.com/watch?v=T3ff57rxTa8\n"
      ]
    },
    {
      "cell_type": "markdown",
      "metadata": {
        "id": "1BF-A0oPrBL_"
      },
      "source": [
        "## **Tugas VI**\n",
        "\n",
        "Implentasikan Program 8.3.1, Program 8.3.2 dan Program 8.3.3 diatas amati hasilnya dan tuliskan kesimpulan dibawah ini "
      ]
    },
    {
      "cell_type": "markdown",
      "metadata": {
        "id": "cdgrSjRr0Eq5"
      },
      "source": [
        "**JAWAB**\n",
        "\n",
        "Dari latihan program diatas dapat diketahui bahwa Eksepsi dalam Java adalah sebuah objek yang menjelaskan kejadian luar biasa (error) yang terjadi pada sebuah potongan kode. Ketika sebuah kejadian luar biasa terjadi, sebuah objek yang merepresentasikan eksepsi akan diciptakan dan dilemparkan di dalam metode yang menyebabkan error tersebut. Eksepsi yang dibangkitkan secara manual dari program yang dijalankan umumnya dipakai untuk melaporkan kondisi error tertentu kepada pemanggil dari sebuah metode. Penanganan eksepsi Java dikelola menggunakan lima katakunci: try, catch, throw, throws, dan finally. "
      ]
    },
    {
      "cell_type": "markdown",
      "metadata": {
        "id": "zT6nxQWwvlLR"
      },
      "source": [
        "## Soal UTS I\n",
        "Berikut ini ada kode java operasi pembagian integer. Implementasikan Eksepsi pada kode dibawah ini.\n",
        "\n",
        "```javascript\n",
        "\n",
        "        int x = 10;\n",
        "\n",
        "        x = x / 0;\n",
        "\n",
        "        System.out.println(x);\n",
        "\n",
        "        System.out.println(\"akhir program\");\n",
        "```"
      ]
    },
    {
      "cell_type": "code",
      "metadata": {
        "id": "cELXKSeFznoe",
        "colab": {
          "base_uri": "https://localhost:8080/"
        },
        "outputId": "0ada5843-a1f1-4418-ef19-e7bbd1baedf4"
      },
      "source": [
        "//Jawab SOAL UTS I\n",
        "\n",
        "    try {\n",
        "          int hitung = 100 / 5;\n",
        "            System.out.println(\"hasil = \" + hitung);\n",
        "        } catch (Throwable t) {\n",
        "            System.err.print(\"error !! terjadi pembagian nol\");\n",
        "        } finally {\n",
        "            System.err.print(\"menjalankan blok finally, \");\n",
        "        }\n",
        "            System.out.println(\"SELAMAT!!!program anda sukses melewati eksepsi\");\n",
        "\n"
      ],
      "execution_count": 61,
      "outputs": [
        {
          "output_type": "stream",
          "text": [
            "hasil = 20\n"
          ],
          "name": "stdout"
        },
        {
          "output_type": "stream",
          "text": [
            "menjalankan blok finally, "
          ],
          "name": "stderr"
        },
        {
          "output_type": "stream",
          "text": [
            "SELAMAT!!!program anda sukses melewati eksepsi\n"
          ],
          "name": "stdout"
        }
      ]
    }
  ]
}